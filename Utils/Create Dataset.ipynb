{
 "cells": [
  {
   "cell_type": "code",
   "execution_count": 1,
   "metadata": {},
   "outputs": [
    {
     "name": "stderr",
     "output_type": "stream",
     "text": [
      "<ipython-input-1-19a65cef1945>:17: RuntimeWarning: covariance is not positive-semidefinite.\n",
      "  x2,y2 = np.random.multivariate_normal(mean2,cov2,500).T\n",
      "<ipython-input-1-19a65cef1945>:31: RuntimeWarning: covariance is not positive-semidefinite.\n",
      "  x5,y5 = np.random.multivariate_normal(mean5, cov5, 500).T\n",
      "<ipython-input-1-19a65cef1945>:32: RuntimeWarning: covariance is not positive-semidefinite.\n",
      "  x6,y6 = np.random.multivariate_normal(mean6, cov6, 500).T\n",
      "<ipython-input-1-19a65cef1945>:44: RuntimeWarning: covariance is not positive-semidefinite.\n",
      "  x7,y7 = np.random.multivariate_normal(mean7, cov7, 500).T\n",
      "<ipython-input-1-19a65cef1945>:45: RuntimeWarning: covariance is not positive-semidefinite.\n",
      "  x8,y8 = np.random.multivariate_normal(mean8, cov8, 500).T\n",
      "<ipython-input-1-19a65cef1945>:46: RuntimeWarning: covariance is not positive-semidefinite.\n",
      "  x9,y9 = np.random.multivariate_normal(mean9, cov9, 500).T\n"
     ]
    },
    {
     "data": {
      "image/png": "[encoded data removed]",
      "text/plain": [
       "<Figure size 432x288 with 1 Axes>"
      ]
     },
     "metadata": {
      "needs_background": "light"
     },
     "output_type": "display_data"
    }
   ],
   "source": [
    "# 'x' points correspond to Batch A, 'o' points correspond to Batch B and '^' points correspond to Batch C\n",
    "# Red, Yellow and orange correspond to different batches\n",
    "\n",
    "import matplotlib.pyplot as plt\n",
    "import matplotlib\n",
    "import numpy as np\n",
    "import matplotlib.patches as mpatches\n",
    "\n",
    "#Batch A\n",
    "mean = [5,10]\n",
    "mean2 = [-2,-6]\n",
    "mean3 = [8,-10]\n",
    "cov = [[1, 0], [0, 5]] \n",
    "cov2 = [[0,1],[1,0]]\n",
    "cov3 = [[1,0],[0,1]]\n",
    "x, y = np.random.multivariate_normal(mean, cov, 500).T\n",
    "x2,y2 = np.random.multivariate_normal(mean2,cov2,500).T\n",
    "x3,y3 = np.random.multivariate_normal(mean3, cov3, 500).T\n",
    "plt.plot(x, y, 'x',color='r',label='Batch A')\n",
    "plt.plot(x2,y2,'x',color = 'orange')\n",
    "plt.plot(x3,y3,'x',color='green')\n",
    "\n",
    "#Batch B\n",
    "mean4 = [-2,20]\n",
    "mean5 = [-6,-30]\n",
    "mean6 = [8,-35]\n",
    "cov4 =  [[0.5,-1],[-1,10]]\n",
    "cov5 = [[1,-10],[0,-1]]\n",
    "cov6 =   [[1, -5], [-1, 10]] \n",
    "x4,y4 = np.random.multivariate_normal(mean4, cov4, 500).T\n",
    "x5,y5 = np.random.multivariate_normal(mean5, cov5, 500).T\n",
    "x6,y6 = np.random.multivariate_normal(mean6, cov6, 500).T\n",
    "plt.plot(x4, y4, '.',color='r',label = 'Batch B')\n",
    "plt.plot(x5,y5,'.',color = 'orange')\n",
    "plt.plot(x6,y6,'.',color='green')\n",
    "\n",
    "#Batch c\n",
    "mean7 = [2.5,40]\n",
    "mean8 = [0,-30]\n",
    "mean9 = [15,-25]\n",
    "cov7 =  [[1,-10],[0,-1]]\n",
    "cov8 = [[1, -5], [-1, 10]] \n",
    "cov9 =   [[0.5, 0.5], [0.1, -12]] \n",
    "x7,y7 = np.random.multivariate_normal(mean7, cov7, 500).T\n",
    "x8,y8 = np.random.multivariate_normal(mean8, cov8, 500).T\n",
    "x9,y9 = np.random.multivariate_normal(mean9, cov9, 500).T\n",
    "plt.plot(x7, y7, '^',color='r',label='Batch C')\n",
    "plt.plot(x8,y8,'^',color = 'orange')\n",
    "plt.plot(x9,y9,'^',color='green')\n",
    "plt.axhline(0, color='black')\n",
    "plt.axvline(0, color='black')\n",
    "plt.title(\"Artificial 2D training Set - Different markers correspond to different batches\")\n",
    "plt.xlabel('X coordinate')\n",
    "plt.ylabel('Y coordinate')\n",
    "red_patch = mpatches.Patch(color='red', label='Class A')\n",
    "orange_patch = mpatches.Patch(color='orange', label='Class B')\n",
    "green_patch = mpatches.Patch(color='green', label='Class C')\n",
    "plt.legend(handles=[red_patch,orange_patch,green_patch])\n",
    "\n",
    "plt.show()"
   ]
  },
  {
   "cell_type": "code",
   "execution_count": 7,
   "metadata": {},
   "outputs": [
    {
     "data": {
      "text/plain": [
       "['features', 'labels', 'accessions']"
      ]
     },
     "execution_count": 7,
     "metadata": {},
     "output_type": "execute_result"
    }
   ],
   "source": [
    "artificial_dataset = np.load('C:\\\\Users\\\\vinee\\\\OneDrive\\\\Desktop\\\\Yale-Bio Project\\\\scDGN-master (1)\\\\scDGN-master\\\\arti_data4.npz')\n",
    "artificial_dataset.files"
   ]
  },
  {
   "cell_type": "code",
   "execution_count": 41,
   "metadata": {},
   "outputs": [
    {
     "name": "stdout",
     "output_type": "stream",
     "text": [
      "(3000,)\n"
     ]
    }
   ],
   "source": [
    "print(artificial_dataset['labels'].shape)"
   ]
  },
  {
   "cell_type": "code",
   "execution_count": 14,
   "metadata": {},
   "outputs": [
    {
     "data": {
      "text/plain": [
       "array([3, 3, 3, 3, 3, 3, 3, 3, 3, 3])"
      ]
     },
     "execution_count": 14,
     "metadata": {},
     "output_type": "execute_result"
    }
   ],
   "source": [
    "artificial_dataset['labels'][:10]"
   ]
  },
  {
   "cell_type": "code",
   "execution_count": null,
   "metadata": {},
   "outputs": [],
   "source": [
    "artificial_dataset"
   ]
  },
  {
   "cell_type": "code",
   "execution_count": 16,
   "metadata": {},
   "outputs": [],
   "source": [
    "#Merge arrays\n",
    "x_features = np.concatenate([x3,x2,x,x6,x5,x4,x9,x8,x7])"
   ]
  },
  {
   "cell_type": "code",
   "execution_count": 17,
   "metadata": {},
   "outputs": [
    {
     "data": {
      "text/plain": [
       "(4500,)"
      ]
     },
     "execution_count": 17,
     "metadata": {},
     "output_type": "execute_result"
    }
   ],
   "source": [
    "x_features.shape"
   ]
  },
  {
   "cell_type": "code",
   "execution_count": 18,
   "metadata": {},
   "outputs": [],
   "source": [
    "y_features = np.concatenate([y3,y2,y,y6,y5,y4,y9,y8,y7])"
   ]
  },
  {
   "cell_type": "code",
   "execution_count": 19,
   "metadata": {},
   "outputs": [
    {
     "data": {
      "text/plain": [
       "(4500,)"
      ]
     },
     "execution_count": 19,
     "metadata": {},
     "output_type": "execute_result"
    }
   ],
   "source": [
    "y_features.shape"
   ]
  },
  {
   "cell_type": "code",
   "execution_count": 46,
   "metadata": {},
   "outputs": [],
   "source": [
    "batch_list = np.zeros((4500,),dtype='int')\n",
    "for i in range(1500):\n",
    "    batch_list[i] = 0\n",
    "    batch_list[i+1500] = 1\n",
    "    batch_list[i+3000] = 2"
   ]
  },
  {
   "cell_type": "code",
   "execution_count": 47,
   "metadata": {},
   "outputs": [
    {
     "data": {
      "text/plain": [
       "array([2, 2, 2, 2, 2, 2, 2, 2, 2, 2])"
      ]
     },
     "execution_count": 47,
     "metadata": {},
     "output_type": "execute_result"
    }
   ],
   "source": [
    "batch_list[-10:]"
   ]
  },
  {
   "cell_type": "code",
   "execution_count": 43,
   "metadata": {},
   "outputs": [],
   "source": [
    "labels = np.zeros((4500,),dtype='int')\n",
    "for i in range(1500):\n",
    "    if(i<500):\n",
    "        labels[i] = 2\n",
    "        labels[i+1500] = 2\n",
    "        labels[i+3000] = 2\n",
    "    elif(i>=500 and i<1000):\n",
    "        labels[i] = 1\n",
    "        labels[i+1500] = 1\n",
    "        labels[i+3000] = 1\n",
    "    elif(i>=1000):\n",
    "        labels[i] = 0\n",
    "        labels[i+1500] = 0\n",
    "        labels[i+3000] = 0\n",
    "    "
   ]
  },
  {
   "cell_type": "code",
   "execution_count": 44,
   "metadata": {},
   "outputs": [
    {
     "data": {
      "text/plain": [
       "array([2, 2, 2, 2, 2, 2, 2, 2, 2, 2])"
      ]
     },
     "execution_count": 44,
     "metadata": {},
     "output_type": "execute_result"
    }
   ],
   "source": [
    "labels[:10]"
   ]
  },
  {
   "cell_type": "code",
   "execution_count": 30,
   "metadata": {},
   "outputs": [],
   "source": [
    "import pandas as pd\n",
    "artificial_dataset_new = pd.DataFrame()\n",
    "artificial_dataset_new['X'] = x_features\n",
    "artificial_dataset_new['Y'] = y_features\n",
    "artificial_dataset_new['labels'] = labels\n",
    "artificial_dataset_new['Accessions'] = batch_list\n",
    "artificial_dataset_new.to_csv('C:\\\\Users\\\\vinee\\\\OneDrive\\\\Desktop\\\\Yale-Bio Project\\\\scDGN-master (1)\\\\scDGN-master\\\\artificial_dataset_new.csv')"
   ]
  },
  {
   "cell_type": "code",
   "execution_count": null,
   "metadata": {},
   "outputs": [],
   "source": []
  },
  {
   "cell_type": "code",
   "execution_count": 49,
   "metadata": {},
   "outputs": [
    {
     "data": {
      "text/plain": [
       "(4500,)"
      ]
     },
     "execution_count": 49,
     "metadata": {},
     "output_type": "execute_result"
    }
   ],
   "source": [
    "batch_list.shape"
   ]
  },
  {
   "cell_type": "code",
   "execution_count": 45,
   "metadata": {},
   "outputs": [
    {
     "data": {
      "text/plain": [
       "(4500,)"
      ]
     },
     "execution_count": 45,
     "metadata": {},
     "output_type": "execute_result"
    }
   ],
   "source": [
    "labels.shape"
   ]
  },
  {
   "cell_type": "code",
   "execution_count": 52,
   "metadata": {},
   "outputs": [],
   "source": [
    "features = np.vstack([x_features,y_features]).T\n",
    "from tempfile import TemporaryFile\n",
    "accessions = batch_list\n",
    "np.savez('artificial_data5.npz',features = features,labels=labels,accessions=accessions)"
   ]
  },
  {
   "cell_type": "code",
   "execution_count": 53,
   "metadata": {},
   "outputs": [
    {
     "data": {
      "text/plain": [
       "array([[  8.50674773,  -9.75754833],\n",
       "       [  8.34770198, -10.84160818],\n",
       "       [  7.95856204, -11.87553112]])"
      ]
     },
     "execution_count": 53,
     "metadata": {},
     "output_type": "execute_result"
    }
   ],
   "source": [
    "feature_list[:3]"
   ]
  },
  {
   "cell_type": "code",
   "execution_count": 54,
   "metadata": {},
   "outputs": [
    {
     "data": {
      "text/plain": [
       "['features', 'labels', 'accessions']"
      ]
     },
     "execution_count": 54,
     "metadata": {},
     "output_type": "execute_result"
    }
   ],
   "source": [
    "artificial_dataset = np.load('artificial_data5.npz')\n",
    "artificial_dataset.files"
   ]
  },
  {
   "cell_type": "code",
   "execution_count": 55,
   "metadata": {},
   "outputs": [
    {
     "data": {
      "text/plain": [
       "(4500, 2)"
      ]
     },
     "execution_count": 55,
     "metadata": {},
     "output_type": "execute_result"
    }
   ],
   "source": [
    "artificial_dataset['features'].shape"
   ]
  },
  {
   "cell_type": "code",
   "execution_count": null,
   "metadata": {},
   "outputs": [],
   "source": []
  }
 ],
 "metadata": {
  "kernelspec": {
   "display_name": "Python 3",
   "language": "python",
   "name": "python3"
  },
  "language_info": {
   "codemirror_mode": {
    "name": "ipython",
    "version": 3
   },
   "file_extension": ".py",
   "mimetype": "text/x-python",
   "name": "python",
   "nbconvert_exporter": "python",
   "pygments_lexer": "ipython3",
   "version": "3.8.5"
  }
 },
 "nbformat": 4,
 "nbformat_minor": 4
}
